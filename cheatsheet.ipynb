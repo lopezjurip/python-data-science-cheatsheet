{
 "cells": [
  {
   "cell_type": "markdown",
   "metadata": {},
   "source": [
    "# Cheatsheet\n",
    "\n",
    "Para esas malditas librerias en Python."
   ]
  },
  {
   "cell_type": "code",
   "execution_count": 1,
   "metadata": {
    "collapsed": false
   },
   "outputs": [],
   "source": [
    "from pprint import pprint "
   ]
  },
  {
   "cell_type": "markdown",
   "metadata": {},
   "source": [
    "## Matplotlib\n",
    "\n",
    "* See: http://matplotlib.org/users/pyplot_tutorial.html\n",
    "* See: http://matplotlib.org/users/screenshots.html"
   ]
  },
  {
   "cell_type": "code",
   "execution_count": 2,
   "metadata": {
    "collapsed": false
   },
   "outputs": [],
   "source": [
    "%matplotlib inline\n",
    "import matplotlib.pyplot as plt\n",
    "import matplotlib.patches as mpatches\n",
    "\n",
    "# Change style\n",
    "# plt.style.use('ggplot')"
   ]
  },
  {
   "cell_type": "code",
   "execution_count": 27,
   "metadata": {
    "collapsed": false
   },
   "outputs": [
    {
     "data": {
      "image/png": "[encoded data removed]",
      "text/plain": [
       "<matplotlib.figure.Figure at 0x10f10c748>"
      ]
     },
     "metadata": {},
     "output_type": "display_data"
    }
   ],
   "source": [
    "plt.plot([1,2,3,4], [1,4,2,16])\n",
    "plt.title(r'Title with $\\sigma_i=15$')\n",
    "plt.ylabel('Y Label')\n",
    "plt.xlabel('X Label', fontsize=14, color='blue')\n",
    "plt.grid(True)\n",
    "\n",
    "# Add legend\n",
    "plt.legend(['Blue Line'])\n",
    "\n",
    "plt.show()"
   ]
  },
  {
   "cell_type": "code",
   "execution_count": 30,
   "metadata": {
    "collapsed": false
   },
   "outputs": [
    {
     "data": {
      "image/png": "[encoded data removed]",
      "text/plain": [
       "<matplotlib.figure.Figure at 0x10f119940>"
      ]
     },
     "metadata": {},
     "output_type": "display_data"
    }
   ],
   "source": [
    "plt.plot([1,2,3,4,5], [1,4,2,16,15], 'b--')\n",
    "plt.plot([2,3,4], [3,6,4], 'r^')\n",
    "plt.title(\"Normal title\")\n",
    "plt.ylabel('Y Label')\n",
    "plt.xlabel('X Label')\n",
    "\n",
    "# Add legend\n",
    "plt.legend(['Blue Line', 'Red triangles'])\n",
    "\n",
    "plt.show()"
   ]
  },
  {
   "cell_type": "code",
   "execution_count": null,
   "metadata": {
    "collapsed": false
   },
   "outputs": [],
   "source": []
  },
  {
   "cell_type": "markdown",
   "metadata": {},
   "source": [
    "## Numpy"
   ]
  },
  {
   "cell_type": "code",
   "execution_count": 5,
   "metadata": {
    "collapsed": false
   },
   "outputs": [],
   "source": [
    "import numpy as np"
   ]
  },
  {
   "cell_type": "markdown",
   "metadata": {},
   "source": [
    "### Matrix"
   ]
  },
  {
   "cell_type": "code",
   "execution_count": 6,
   "metadata": {
    "collapsed": false
   },
   "outputs": [
    {
     "name": "stdout",
     "output_type": "stream",
     "text": [
      "Shape: (3, 1)\n"
     ]
    },
    {
     "data": {
      "text/plain": [
       "array([[0],\n",
       "       [1],\n",
       "       [2]])"
      ]
     },
     "execution_count": 6,
     "metadata": {},
     "output_type": "execute_result"
    }
   ],
   "source": [
    "# Column matrix\n",
    "column = np.array([[0], [1], [2]])\n",
    "print(\"Shape:\", column.shape)\n",
    "column"
   ]
  },
  {
   "cell_type": "code",
   "execution_count": 7,
   "metadata": {
    "collapsed": false
   },
   "outputs": [
    {
     "name": "stdout",
     "output_type": "stream",
     "text": [
      "Shape: (1, 3)\n"
     ]
    },
    {
     "data": {
      "text/plain": [
       "array([[0, 1, 2]])"
      ]
     },
     "execution_count": 7,
     "metadata": {},
     "output_type": "execute_result"
    }
   ],
   "source": [
    "# Row matrix\n",
    "row = np.array([[0, 1, 2]])\n",
    "print(\"Shape:\", row.shape)\n",
    "row"
   ]
  },
  {
   "cell_type": "code",
   "execution_count": 8,
   "metadata": {
    "collapsed": false
   },
   "outputs": [
    {
     "name": "stdout",
     "output_type": "stream",
     "text": [
      "Shape: (2, 2)\n"
     ]
    },
    {
     "data": {
      "text/plain": [
       "array([[0, 1],\n",
       "       [2, 3]])"
      ]
     },
     "execution_count": 8,
     "metadata": {},
     "output_type": "execute_result"
    }
   ],
   "source": [
    "# Matrix\n",
    "matrix = np.array([[0, 1], [2, 3]])\n",
    "print(\"Shape:\", matrix.shape)\n",
    "matrix"
   ]
  },
  {
   "cell_type": "code",
   "execution_count": 9,
   "metadata": {
    "collapsed": false
   },
   "outputs": [
    {
     "name": "stdout",
     "output_type": "stream",
     "text": [
      "Item at (1, 1): 3\n",
      "Row at 1: [2 3]\n",
      "Column at 1: [1 3]\n"
     ]
    }
   ],
   "source": [
    "# Get rows, columns and items\n",
    "print(\"Item at (1, 1):\", matrix[1, 1])\n",
    "print(\"Row at 1:\", matrix[1])\n",
    "print(\"Column at 1:\", matrix[:,1])"
   ]
  },
  {
   "cell_type": "code",
   "execution_count": 10,
   "metadata": {
    "collapsed": false
   },
   "outputs": [
    {
     "name": "stdout",
     "output_type": "stream",
     "text": [
      "Transponse:\n",
      " [[0 2]\n",
      " [1 3]]\n",
      "Adition & substraction:\n",
      " [[0 2]\n",
      " [4 6]]\n",
      "Scalar multiplication:\n",
      " [[ 0 10]\n",
      " [20 30]]\n",
      "Dot product:\n",
      " [[ 2  3]\n",
      " [ 6 11]]\n",
      "Cross product:\n",
      " [0 0]\n"
     ]
    }
   ],
   "source": [
    "# Operations\n",
    "print(\"Transponse:\\n\", matrix.T)\n",
    "print(\"Adition & substraction:\\n\", matrix + matrix)\n",
    "print(\"Scalar multiplication:\\n\", matrix * 10)\n",
    "print(\"Dot product:\\n\", np.dot(matrix, matrix))\n",
    "print(\"Cross product:\\n\", np.cross(matrix, matrix, axis=0))"
   ]
  },
  {
   "cell_type": "markdown",
   "metadata": {},
   "source": [
    "### Random data"
   ]
  },
  {
   "cell_type": "code",
   "execution_count": 11,
   "metadata": {
    "collapsed": true
   },
   "outputs": [],
   "source": [
    "# Set seed\n",
    "np.random.seed(123)"
   ]
  },
  {
   "cell_type": "code",
   "execution_count": 12,
   "metadata": {
    "collapsed": false
   },
   "outputs": [
    {
     "data": {
      "text/plain": [
       "-1.0856306033005612"
      ]
     },
     "execution_count": 12,
     "metadata": {},
     "output_type": "execute_result"
    }
   ],
   "source": [
    "# Random value\n",
    "value = np.random.randn()\n",
    "value"
   ]
  },
  {
   "cell_type": "code",
   "execution_count": 13,
   "metadata": {
    "collapsed": false
   },
   "outputs": [
    {
     "data": {
      "text/plain": [
       "array([[ 0.99734545,  0.2829785 , -1.50629471],\n",
       "       [-0.57860025,  1.65143654, -2.42667924],\n",
       "       [-0.42891263,  1.26593626, -0.8667404 ]])"
      ]
     },
     "execution_count": 13,
     "metadata": {},
     "output_type": "execute_result"
    }
   ],
   "source": [
    "# Random matrix\n",
    "matrix = np.random.randn(3, 3)\n",
    "matrix"
   ]
  },
  {
   "cell_type": "markdown",
   "metadata": {},
   "source": [
    "### Ranges"
   ]
  },
  {
   "cell_type": "code",
   "execution_count": 14,
   "metadata": {
    "collapsed": false,
    "scrolled": true
   },
   "outputs": [
    {
     "data": {
      "text/plain": [
       "array([ 0,  2,  4,  6,  8, 10, 12, 14, 16, 18])"
      ]
     },
     "execution_count": 14,
     "metadata": {},
     "output_type": "execute_result"
    }
   ],
   "source": [
    "scalar = np.arange(start=0, stop=20, step=2)\n",
    "scalar"
   ]
  },
  {
   "cell_type": "code",
   "execution_count": 15,
   "metadata": {
    "collapsed": false
   },
   "outputs": [
    {
     "data": {
      "text/plain": [
       "array([  0.        ,   0.40816327,   0.81632653,   1.2244898 ,\n",
       "         1.63265306,   2.04081633,   2.44897959,   2.85714286,\n",
       "         3.26530612,   3.67346939,   4.08163265,   4.48979592,\n",
       "         4.89795918,   5.30612245,   5.71428571,   6.12244898,\n",
       "         6.53061224,   6.93877551,   7.34693878,   7.75510204,\n",
       "         8.16326531,   8.57142857,   8.97959184,   9.3877551 ,\n",
       "         9.79591837,  10.20408163,  10.6122449 ,  11.02040816,\n",
       "        11.42857143,  11.83673469,  12.24489796,  12.65306122,\n",
       "        13.06122449,  13.46938776,  13.87755102,  14.28571429,\n",
       "        14.69387755,  15.10204082,  15.51020408,  15.91836735,\n",
       "        16.32653061,  16.73469388,  17.14285714,  17.55102041,\n",
       "        17.95918367,  18.36734694,  18.7755102 ,  19.18367347,\n",
       "        19.59183673,  20.        ])"
      ]
     },
     "execution_count": 15,
     "metadata": {},
     "output_type": "execute_result"
    }
   ],
   "source": [
    "linear = np.linspace(start=0, stop=20, num=50)\n",
    "linear"
   ]
  },
  {
   "cell_type": "code",
   "execution_count": 16,
   "metadata": {
    "collapsed": false
   },
   "outputs": [
    {
     "data": {
      "text/plain": [
       "array([ 0.40816327,  0.81632653])"
      ]
     },
     "execution_count": 16,
     "metadata": {},
     "output_type": "execute_result"
    }
   ],
   "source": [
    "# Get data interval\n",
    "section = linear[(linear > 0) & (linear < 1)] # Take ]0, 1[\n",
    "section"
   ]
  },
  {
   "cell_type": "markdown",
   "metadata": {},
   "source": [
    "### Statistics and data"
   ]
  },
  {
   "cell_type": "markdown",
   "metadata": {},
   "source": [
    "#### Beta\n",
    "* See: https://docs.scipy.org/doc/numpy/reference/generated/numpy.random.beta.html#numpy.random.beta"
   ]
  },
  {
   "cell_type": "code",
   "execution_count": 17,
   "metadata": {
    "collapsed": false
   },
   "outputs": [
    {
     "data": {
      "text/plain": [
       "array([ 0.45113407,  0.49918735,  0.54611922,  0.33774305,  0.68507516,\n",
       "        0.72846211,  0.58437539,  0.40444126,  0.42371574,  0.6352976 ])"
      ]
     },
     "execution_count": 17,
     "metadata": {},
     "output_type": "execute_result"
    }
   ],
   "source": [
    "beta = np.random.beta(a=10, b=10, size=10)\n",
    "beta"
   ]
  },
  {
   "cell_type": "markdown",
   "metadata": {},
   "source": [
    "#### Binomial\n",
    "* See: https://docs.scipy.org/doc/numpy/reference/generated/numpy.random.binomial.html#numpy.random.binomial"
   ]
  },
  {
   "cell_type": "code",
   "execution_count": 18,
   "metadata": {
    "collapsed": false
   },
   "outputs": [
    {
     "data": {
      "text/plain": [
       "array([5, 5, 4, 4, 5, 6, 7, 5, 6, 5])"
      ]
     },
     "execution_count": 18,
     "metadata": {},
     "output_type": "execute_result"
    }
   ],
   "source": [
    "prob_success, trials = .5, 10\n",
    "binomial = np.random.binomial(n=trials, p=prob_success, size=10)\n",
    "binomial"
   ]
  },
  {
   "cell_type": "markdown",
   "metadata": {},
   "source": [
    "#### Exponential\n",
    "* See: https://docs.scipy.org/doc/numpy/reference/generated/numpy.random.exponential.html#numpy.random.exponential"
   ]
  },
  {
   "cell_type": "code",
   "execution_count": 19,
   "metadata": {
    "collapsed": false
   },
   "outputs": [
    {
     "data": {
      "text/plain": [
       "array([ 0.19611439,  0.22459476,  0.36946598,  0.01737209,  0.2885161 ,\n",
       "        0.05585454,  0.04318964,  0.16994006,  0.02012159,  0.43313383])"
      ]
     },
     "execution_count": 19,
     "metadata": {},
     "output_type": "execute_result"
    }
   ],
   "source": [
    "alpha = 5.0  # Rate parameter\n",
    "beta = 1.0 / alpha\n",
    "exponential = np.random.exponential(scale=beta, size=10)\n",
    "exponential"
   ]
  },
  {
   "cell_type": "markdown",
   "metadata": {},
   "source": [
    "#### Log-Normal\n",
    "* See: https://docs.scipy.org/doc/numpy/reference/generated/numpy.random.lognormal.html#numpy.random.lognormal"
   ]
  },
  {
   "cell_type": "code",
   "execution_count": 20,
   "metadata": {
    "collapsed": false
   },
   "outputs": [
    {
     "data": {
      "text/plain": [
       "array([ 82.87214898,  45.02583943,  21.02033034,  15.90936515,\n",
       "         6.05993367,  24.5208573 ,  32.08661996,   8.7481742 ,\n",
       "        64.21289512,   6.70462075])"
      ]
     },
     "execution_count": 20,
     "metadata": {},
     "output_type": "execute_result"
    }
   ],
   "source": [
    "mu, sigma = 3.0, 1.0\n",
    "lognormal = np.random.lognormal(mean=mu, sigma=sigma, size=10)\n",
    "lognormal"
   ]
  },
  {
   "cell_type": "markdown",
   "metadata": {},
   "source": [
    "#### Normal\n",
    "* See: https://docs.scipy.org/doc/numpy/reference/generated/numpy.random.normal.html#numpy.random.normal"
   ]
  },
  {
   "cell_type": "code",
   "execution_count": 21,
   "metadata": {
    "collapsed": false
   },
   "outputs": [
    {
     "data": {
      "text/plain": [
       "array([-1.06155018,  0.51986355, -0.20168302, -0.06301479, -0.41875836,\n",
       "       -0.80298138,  0.62761869, -0.34443449,  0.83047624,  0.40365409])"
      ]
     },
     "execution_count": 21,
     "metadata": {},
     "output_type": "execute_result"
    }
   ],
   "source": [
    "mu, sigma = 0.0, 0.5\n",
    "normal = np.random.normal(loc=mu, scale=sigma, size=10)\n",
    "normal"
   ]
  },
  {
   "cell_type": "code",
   "execution_count": 22,
   "metadata": {
    "collapsed": false
   },
   "outputs": [
    {
     "data": {
      "image/png": "[encoded data removed]",
      "text/plain": [
       "<matplotlib.figure.Figure at 0x10f000a20>"
      ]
     },
     "metadata": {},
     "output_type": "display_data"
    }
   ],
   "source": [
    "count, bins, ignored = plt.hist(normal, bins=5, normed=True, range=(0.0, 1.0), orientation=\"vertical\")\n",
    "plt.show()"
   ]
  },
  {
   "cell_type": "markdown",
   "metadata": {},
   "source": [
    "#### Gamma\n",
    "* See: https://docs.scipy.org/doc/numpy/reference/generated/numpy.random.gamma.html#numpy.random.gamma"
   ]
  },
  {
   "cell_type": "code",
   "execution_count": 23,
   "metadata": {
    "collapsed": false
   },
   "outputs": [
    {
     "data": {
      "text/plain": [
       "array([  2.5848905 ,   1.24219736,  12.14791588,   3.77620118,\n",
       "         7.27244399,   1.01503436,   2.5410034 ,   6.76735915,\n",
       "         4.41203826,   2.44702584])"
      ]
     },
     "execution_count": 23,
     "metadata": {},
     "output_type": "execute_result"
    }
   ],
   "source": [
    "shape, scale = 2, 2\n",
    "gamma = np.random.gamma(shape=shape, scale=scale, size=10)\n",
    "gamma"
   ]
  },
  {
   "cell_type": "markdown",
   "metadata": {},
   "source": [
    "#### Geometric\n",
    "* See: https://docs.scipy.org/doc/numpy/reference/generated/numpy.random.geometric.html#numpy.random.geometric"
   ]
  },
  {
   "cell_type": "code",
   "execution_count": 24,
   "metadata": {
    "collapsed": false
   },
   "outputs": [
    {
     "data": {
      "text/plain": [
       "array([ 3,  2,  1, 11,  6,  1,  1,  2,  6, 10])"
      ]
     },
     "execution_count": 24,
     "metadata": {},
     "output_type": "execute_result"
    }
   ],
   "source": [
    "prob_success = 0.35\n",
    "geometric = np.random.geometric(p=prob_success, size=10)\n",
    "geometric"
   ]
  },
  {
   "cell_type": "code",
   "execution_count": null,
   "metadata": {
    "collapsed": true
   },
   "outputs": [],
   "source": []
  }
 ],
 "metadata": {
  "kernelspec": {
   "display_name": "Python 3",
   "language": "python",
   "name": "python3"
  },
  "language_info": {
   "codemirror_mode": {
    "name": "ipython",
    "version": 3
   },
   "file_extension": ".py",
   "mimetype": "text/x-python",
   "name": "python",
   "nbconvert_exporter": "python",
   "pygments_lexer": "ipython3",
   "version": "3.4.3"
  }
 },
 "nbformat": 4,
 "nbformat_minor": 0
}
